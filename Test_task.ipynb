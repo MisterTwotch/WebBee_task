{
 "cells": [
  {
   "cell_type": "code",
   "execution_count": 45,
   "id": "c308256e-56c3-4fc2-9c2e-ea8bb389a5e7",
   "metadata": {},
   "outputs": [],
   "source": [
    "import pandas as pd\n",
    "import matplotlib.pyplot as plt\n",
    "import seaborn as sns\n",
    "import numpy as np\n",
    "from catboost import CatBoostRegressor\n",
    "from sklearn.linear_model import LinearRegression, Ridge, Lasso\n",
    "from sklearn.preprocessing import StandardScaler\n",
    "from sklearn.model_selection import train_test_split\n",
    "from sklearn.metrics import mean_squared_error"
   ]
  },
  {
   "cell_type": "code",
   "execution_count": 46,
   "id": "17b290b9-24d3-435f-9ecd-3b26705a4529",
   "metadata": {},
   "outputs": [],
   "source": [
    "df = pd.read_csv(\"train.csv\")"
   ]
  },
  {
   "cell_type": "code",
   "execution_count": 47,
   "id": "96b5fc08-5eda-4bba-b071-d659819b4fad",
   "metadata": {},
   "outputs": [
    {
     "data": {
      "text/html": [
       "<div>\n",
       "<style scoped>\n",
       "    .dataframe tbody tr th:only-of-type {\n",
       "        vertical-align: middle;\n",
       "    }\n",
       "\n",
       "    .dataframe tbody tr th {\n",
       "        vertical-align: top;\n",
       "    }\n",
       "\n",
       "    .dataframe thead th {\n",
       "        text-align: right;\n",
       "    }\n",
       "</style>\n",
       "<table border=\"1\" class=\"dataframe\">\n",
       "  <thead>\n",
       "    <tr style=\"text-align: right;\">\n",
       "      <th></th>\n",
       "      <th>LandContour</th>\n",
       "      <th>GarageYrBlt</th>\n",
       "      <th>FullBath</th>\n",
       "      <th>1stFlrSF</th>\n",
       "      <th>BsmtFinSF1</th>\n",
       "      <th>TotRmsAbvGrd</th>\n",
       "      <th>ExterQual</th>\n",
       "      <th>OpenPorchSF</th>\n",
       "      <th>Heating</th>\n",
       "      <th>Condition2</th>\n",
       "      <th>...</th>\n",
       "      <th>GarageCars</th>\n",
       "      <th>KitchenQual</th>\n",
       "      <th>KitchenAbvGr</th>\n",
       "      <th>GrLivArea</th>\n",
       "      <th>2ndFlrSF</th>\n",
       "      <th>CentralAir</th>\n",
       "      <th>BsmtQual</th>\n",
       "      <th>TotalBsmtSF</th>\n",
       "      <th>Fireplaces</th>\n",
       "      <th>SalePrice</th>\n",
       "    </tr>\n",
       "  </thead>\n",
       "  <tbody>\n",
       "    <tr>\n",
       "      <th>0</th>\n",
       "      <td>Lvl</td>\n",
       "      <td>2003.0</td>\n",
       "      <td>2</td>\n",
       "      <td>856</td>\n",
       "      <td>706</td>\n",
       "      <td>8</td>\n",
       "      <td>Gd</td>\n",
       "      <td>61</td>\n",
       "      <td>GasA</td>\n",
       "      <td>Norm</td>\n",
       "      <td>...</td>\n",
       "      <td>2</td>\n",
       "      <td>Gd</td>\n",
       "      <td>1</td>\n",
       "      <td>1710</td>\n",
       "      <td>854</td>\n",
       "      <td>Y</td>\n",
       "      <td>Gd</td>\n",
       "      <td>856</td>\n",
       "      <td>0</td>\n",
       "      <td>208500</td>\n",
       "    </tr>\n",
       "    <tr>\n",
       "      <th>1</th>\n",
       "      <td>Lvl</td>\n",
       "      <td>1976.0</td>\n",
       "      <td>2</td>\n",
       "      <td>1262</td>\n",
       "      <td>978</td>\n",
       "      <td>6</td>\n",
       "      <td>TA</td>\n",
       "      <td>0</td>\n",
       "      <td>GasA</td>\n",
       "      <td>Norm</td>\n",
       "      <td>...</td>\n",
       "      <td>2</td>\n",
       "      <td>TA</td>\n",
       "      <td>1</td>\n",
       "      <td>1262</td>\n",
       "      <td>0</td>\n",
       "      <td>Y</td>\n",
       "      <td>Gd</td>\n",
       "      <td>1262</td>\n",
       "      <td>1</td>\n",
       "      <td>181500</td>\n",
       "    </tr>\n",
       "    <tr>\n",
       "      <th>2</th>\n",
       "      <td>Lvl</td>\n",
       "      <td>2001.0</td>\n",
       "      <td>2</td>\n",
       "      <td>920</td>\n",
       "      <td>486</td>\n",
       "      <td>6</td>\n",
       "      <td>Gd</td>\n",
       "      <td>42</td>\n",
       "      <td>GasA</td>\n",
       "      <td>Norm</td>\n",
       "      <td>...</td>\n",
       "      <td>2</td>\n",
       "      <td>Gd</td>\n",
       "      <td>1</td>\n",
       "      <td>1786</td>\n",
       "      <td>866</td>\n",
       "      <td>Y</td>\n",
       "      <td>Gd</td>\n",
       "      <td>920</td>\n",
       "      <td>1</td>\n",
       "      <td>223500</td>\n",
       "    </tr>\n",
       "    <tr>\n",
       "      <th>3</th>\n",
       "      <td>Lvl</td>\n",
       "      <td>1998.0</td>\n",
       "      <td>1</td>\n",
       "      <td>961</td>\n",
       "      <td>216</td>\n",
       "      <td>7</td>\n",
       "      <td>TA</td>\n",
       "      <td>35</td>\n",
       "      <td>GasA</td>\n",
       "      <td>Norm</td>\n",
       "      <td>...</td>\n",
       "      <td>3</td>\n",
       "      <td>Gd</td>\n",
       "      <td>1</td>\n",
       "      <td>1717</td>\n",
       "      <td>756</td>\n",
       "      <td>Y</td>\n",
       "      <td>TA</td>\n",
       "      <td>756</td>\n",
       "      <td>1</td>\n",
       "      <td>140000</td>\n",
       "    </tr>\n",
       "    <tr>\n",
       "      <th>4</th>\n",
       "      <td>Lvl</td>\n",
       "      <td>2000.0</td>\n",
       "      <td>2</td>\n",
       "      <td>1145</td>\n",
       "      <td>655</td>\n",
       "      <td>9</td>\n",
       "      <td>Gd</td>\n",
       "      <td>84</td>\n",
       "      <td>GasA</td>\n",
       "      <td>Norm</td>\n",
       "      <td>...</td>\n",
       "      <td>3</td>\n",
       "      <td>Gd</td>\n",
       "      <td>1</td>\n",
       "      <td>2198</td>\n",
       "      <td>1053</td>\n",
       "      <td>Y</td>\n",
       "      <td>Gd</td>\n",
       "      <td>1145</td>\n",
       "      <td>1</td>\n",
       "      <td>250000</td>\n",
       "    </tr>\n",
       "  </tbody>\n",
       "</table>\n",
       "<p>5 rows × 21 columns</p>\n",
       "</div>"
      ],
      "text/plain": [
       "  LandContour  GarageYrBlt  FullBath  1stFlrSF  BsmtFinSF1  TotRmsAbvGrd  \\\n",
       "0         Lvl       2003.0         2       856         706             8   \n",
       "1         Lvl       1976.0         2      1262         978             6   \n",
       "2         Lvl       2001.0         2       920         486             6   \n",
       "3         Lvl       1998.0         1       961         216             7   \n",
       "4         Lvl       2000.0         2      1145         655             9   \n",
       "\n",
       "  ExterQual  OpenPorchSF Heating Condition2  ...  GarageCars  KitchenQual  \\\n",
       "0        Gd           61    GasA       Norm  ...           2           Gd   \n",
       "1        TA            0    GasA       Norm  ...           2           TA   \n",
       "2        Gd           42    GasA       Norm  ...           2           Gd   \n",
       "3        TA           35    GasA       Norm  ...           3           Gd   \n",
       "4        Gd           84    GasA       Norm  ...           3           Gd   \n",
       "\n",
       "  KitchenAbvGr  GrLivArea  2ndFlrSF  CentralAir BsmtQual TotalBsmtSF  \\\n",
       "0            1       1710       854           Y       Gd         856   \n",
       "1            1       1262         0           Y       Gd        1262   \n",
       "2            1       1786       866           Y       Gd         920   \n",
       "3            1       1717       756           Y       TA         756   \n",
       "4            1       2198      1053           Y       Gd        1145   \n",
       "\n",
       "   Fireplaces  SalePrice  \n",
       "0           0     208500  \n",
       "1           1     181500  \n",
       "2           1     223500  \n",
       "3           1     140000  \n",
       "4           1     250000  \n",
       "\n",
       "[5 rows x 21 columns]"
      ]
     },
     "execution_count": 47,
     "metadata": {},
     "output_type": "execute_result"
    }
   ],
   "source": [
    "df.head()"
   ]
  },
  {
   "cell_type": "markdown",
   "id": "52a9007f-154c-4247-92fc-3dc760eb5852",
   "metadata": {},
   "source": [
    "<h3>Проверяю типы данных и размер датафрейма</h3>"
   ]
  },
  {
   "cell_type": "code",
   "execution_count": 48,
   "id": "5938412d-324c-4b58-8be3-fb3a25530c08",
   "metadata": {},
   "outputs": [
    {
     "data": {
      "text/plain": [
       "LandContour      object\n",
       "GarageYrBlt     float64\n",
       "FullBath          int64\n",
       "1stFlrSF          int64\n",
       "BsmtFinSF1        int64\n",
       "TotRmsAbvGrd      int64\n",
       "ExterQual        object\n",
       "OpenPorchSF       int64\n",
       "Heating          object\n",
       "Condition2       object\n",
       "OverallQual       int64\n",
       "GarageCars        int64\n",
       "KitchenQual      object\n",
       "KitchenAbvGr      int64\n",
       "GrLivArea         int64\n",
       "2ndFlrSF          int64\n",
       "CentralAir       object\n",
       "BsmtQual         object\n",
       "TotalBsmtSF       int64\n",
       "Fireplaces        int64\n",
       "SalePrice         int64\n",
       "dtype: object"
      ]
     },
     "execution_count": 48,
     "metadata": {},
     "output_type": "execute_result"
    }
   ],
   "source": [
    "df.dtypes"
   ]
  },
  {
   "cell_type": "code",
   "execution_count": 49,
   "id": "4cf5554f-a87f-4940-9b2e-597d2dd1dd18",
   "metadata": {},
   "outputs": [
    {
     "data": {
      "text/plain": [
       "(1460, 21)"
      ]
     },
     "execution_count": 49,
     "metadata": {},
     "output_type": "execute_result"
    }
   ],
   "source": [
    "df.shape"
   ]
  },
  {
   "cell_type": "code",
   "execution_count": 50,
   "id": "29e5ed22-78b9-4650-a769-234009de1288",
   "metadata": {},
   "outputs": [
    {
     "data": {
      "text/plain": [
       "LandContour      0\n",
       "GarageYrBlt     81\n",
       "FullBath         0\n",
       "1stFlrSF         0\n",
       "BsmtFinSF1       0\n",
       "TotRmsAbvGrd     0\n",
       "ExterQual        0\n",
       "OpenPorchSF      0\n",
       "Heating          0\n",
       "Condition2       0\n",
       "OverallQual      0\n",
       "GarageCars       0\n",
       "KitchenQual      0\n",
       "KitchenAbvGr     0\n",
       "GrLivArea        0\n",
       "2ndFlrSF         0\n",
       "CentralAir       0\n",
       "BsmtQual        37\n",
       "TotalBsmtSF      0\n",
       "Fireplaces       0\n",
       "SalePrice        0\n",
       "dtype: int64"
      ]
     },
     "execution_count": 50,
     "metadata": {},
     "output_type": "execute_result"
    }
   ],
   "source": [
    "df.isna().sum()"
   ]
  },
  {
   "cell_type": "code",
   "execution_count": 51,
   "id": "0c04faef-0840-4f82-8af7-06fb4c54c78c",
   "metadata": {},
   "outputs": [
    {
     "data": {
      "text/plain": [
       "<Axes: xlabel='GarageYrBlt', ylabel='Count'>"
      ]
     },
     "execution_count": 51,
     "metadata": {},
     "output_type": "execute_result"
    },
    {
     "data": {
      "image/png": "[encoded data removed]",
      "text/plain": [
       "<Figure size 640x480 with 1 Axes>"
      ]
     },
     "metadata": {},
     "output_type": "display_data"
    }
   ],
   "source": [
    "sns.histplot(df[\"GarageYrBlt\"])"
   ]
  },
  {
   "cell_type": "markdown",
   "id": "0c518fb5-5ce4-40dc-a968-f466f6fe69af",
   "metadata": {},
   "source": [
    "<h4>Пропуски в GarageYrBlt могу заполнить медианным(1980). Можно и средним(~1979)</h4>"
   ]
  },
  {
   "cell_type": "code",
   "execution_count": 52,
   "id": "693b5f5f-57f7-45ce-88e3-acad47797abc",
   "metadata": {},
   "outputs": [],
   "source": [
    "df[\"GarageYrBlt\"].fillna(df[\"GarageYrBlt\"].median(), inplace=True)"
   ]
  },
  {
   "cell_type": "code",
   "execution_count": 53,
   "id": "49e1e382-b4de-4499-94d1-c90c2865f5a4",
   "metadata": {},
   "outputs": [
    {
     "data": {
      "text/plain": [
       "BsmtQual\n",
       "TA    649\n",
       "Gd    618\n",
       "Ex    121\n",
       "Fa     35\n",
       "Name: count, dtype: int64"
      ]
     },
     "execution_count": 53,
     "metadata": {},
     "output_type": "execute_result"
    }
   ],
   "source": [
    "df[\"BsmtQual\"].value_counts()"
   ]
  },
  {
   "cell_type": "markdown",
   "id": "9aa51ece-3512-4c5e-8e8a-bd8d3d3fd759",
   "metadata": {},
   "source": [
    "Пропуски в BsmtQual заполню наиболее часто встречающимся значением</br>\n",
    "TA\tAverage/Typical</br>"
   ]
  },
  {
   "cell_type": "code",
   "execution_count": 54,
   "id": "0a1018a9-fb00-49a5-9b3b-08a1e120e12e",
   "metadata": {},
   "outputs": [],
   "source": [
    "df[\"BsmtQual\"] = df[\"BsmtQual\"].fillna(df[\"BsmtQual\"].value_counts().index[0])"
   ]
  },
  {
   "cell_type": "code",
   "execution_count": 55,
   "id": "6999f6cf-1a57-4965-b8dc-63a45dcd579f",
   "metadata": {},
   "outputs": [
    {
     "data": {
      "text/plain": [
       "array([0], dtype=int64)"
      ]
     },
     "execution_count": 55,
     "metadata": {},
     "output_type": "execute_result"
    }
   ],
   "source": [
    "df.isna().sum().unique()#Пропусков больше нет"
   ]
  },
  {
   "cell_type": "code",
   "execution_count": 56,
   "id": "98564910-4672-484c-bce4-1e68ddc88980",
   "metadata": {},
   "outputs": [
    {
     "data": {
      "text/plain": [
       "(1460, 21)"
      ]
     },
     "execution_count": 56,
     "metadata": {},
     "output_type": "execute_result"
    }
   ],
   "source": [
    "df.shape#Размер не изменился - отлично"
   ]
  },
  {
   "cell_type": "markdown",
   "id": "9e4470fb-30f9-4dc3-81c3-f7bb7c71fc2a",
   "metadata": {},
   "source": [
    "<h4>Есть ли коррелирующие признаки?</h4>"
   ]
  },
  {
   "cell_type": "code",
   "execution_count": 57,
   "id": "07d4d57b-a131-4d6d-a319-e3dfce6f48fa",
   "metadata": {},
   "outputs": [
    {
     "data": {
      "text/plain": [
       "<Axes: >"
      ]
     },
     "execution_count": 57,
     "metadata": {},
     "output_type": "execute_result"
    },
    {
     "data": {
      "image/png": "[encoded data removed]",
      "text/plain": [
       "<Figure size 640x480 with 2 Axes>"
      ]
     },
     "metadata": {},
     "output_type": "display_data"
    }
   ],
   "source": [
    "sns.heatmap(df.corr(numeric_only=True)>0.8)"
   ]
  },
  {
   "cell_type": "markdown",
   "id": "b6573fe6-12e4-4ada-94f3-47c1e0583155",
   "metadata": {},
   "source": [
    "<h3>Видно, что признаки 1stFlrSF и TotalBsmtSF имеют достаточно сильную корреляцию</br>\n",
    "Также сильную корреляцию имеют GrLivArea и TotRmsAbvGrd</h3>"
   ]
  },
  {
   "cell_type": "markdown",
   "id": "4c729c59-f45b-4937-99f6-1978a1f7ccea",
   "metadata": {},
   "source": [
    "<h3>Посмотрим на распределение цен на жилье</h3>"
   ]
  },
  {
   "cell_type": "code",
   "execution_count": 58,
   "id": "4eadbf7f-0c09-4481-9924-7b6cca68e08d",
   "metadata": {},
   "outputs": [
    {
     "data": {
      "image/png": "[encoded data removed]",
      "text/plain": [
       "<Figure size 640x480 with 1 Axes>"
      ]
     },
     "metadata": {},
     "output_type": "display_data"
    },
    {
     "data": {
      "image/png": "[encoded data removed]",
      "text/plain": [
       "<Figure size 640x480 with 1 Axes>"
      ]
     },
     "metadata": {},
     "output_type": "display_data"
    }
   ],
   "source": [
    "#fig = plt.figure(figsize=(20,8))\n",
    "plt.hist(df[\"SalePrice\"], bins = 40)\n",
    "plt.ylabel(\"Частота\")\n",
    "plt.xlabel(\"Цена\")\n",
    "plt.show()\n",
    "\n",
    "#fig = plt.figure(figsize=(20,8))\n",
    "plt.hist(np.log1p(df[\"SalePrice\"]), bins = 40)\n",
    "plt.ylabel(\"Частота\")\n",
    "plt.xlabel(\"log(Цена)\");"
   ]
  },
  {
   "cell_type": "markdown",
   "id": "c48464c8-cf3e-4505-8b2b-a2f575a454d0",
   "metadata": {},
   "source": [
    "<h2>Я буду работать с логарифмом, т.к. распределение больше походит на нормально, чем изначальное</h2>"
   ]
  },
  {
   "cell_type": "markdown",
   "id": "a3670ef0-f2e1-4630-88dd-2825ddaab137",
   "metadata": {},
   "source": [
    "Подготавливаю данные для CatBoost"
   ]
  },
  {
   "cell_type": "code",
   "execution_count": 59,
   "id": "7a6f9bec-1dc1-438c-bb69-f989412f2424",
   "metadata": {},
   "outputs": [],
   "source": [
    "X = df.drop(columns=\"SalePrice\")\n",
    "y = np.log1p(df[\"SalePrice\"])\n",
    "cat_columns = X.columns[X.dtypes == \"object\"].values\n",
    "numeric_columns = X.columns[X.dtypes != \"object\"].values\n",
    "X_train, X_test, y_train, y_test = train_test_split(X, y, random_state=42)"
   ]
  },
  {
   "cell_type": "code",
   "execution_count": 60,
   "id": "3aa7bbd9-19f0-4a83-b3fc-e935009bd762",
   "metadata": {},
   "outputs": [
    {
     "data": {
      "application/vnd.jupyter.widget-view+json": {
       "model_id": "b77146704aa342dd852fe40e0f2b0b2e",
       "version_major": 2,
       "version_minor": 0
      },
      "text/plain": [
       "MetricVisualizer(layout=Layout(align_self='stretch', height='500px'))"
      ]
     },
     "metadata": {},
     "output_type": "display_data"
    },
    {
     "name": "stdout",
     "output_type": "stream",
     "text": [
      "Learning rate set to 0.076412\n",
      "0:\tlearn: 0.3727829\ttest: 0.3961986\tbest: 0.3961986 (0)\ttotal: 17.5ms\tremaining: 8.75s\n",
      "100:\tlearn: 0.1234845\ttest: 0.1492807\tbest: 0.1492807 (100)\ttotal: 1.6s\tremaining: 6.32s\n",
      "200:\tlearn: 0.1169824\ttest: 0.1480502\tbest: 0.1476961 (151)\ttotal: 3.1s\tremaining: 4.61s\n",
      "300:\tlearn: 0.1143059\ttest: 0.1481070\tbest: 0.1476961 (151)\ttotal: 4.73s\tremaining: 3.13s\n",
      "400:\tlearn: 0.1131744\ttest: 0.1475440\tbest: 0.1475075 (397)\ttotal: 6.39s\tremaining: 1.58s\n",
      "499:\tlearn: 0.1122363\ttest: 0.1473384\tbest: 0.1473288 (471)\ttotal: 8.05s\tremaining: 0us\n",
      "bestTest = 0.147328777\n",
      "bestIteration = 471\n",
      "Shrink model to first 472 iterations.\n"
     ]
    },
    {
     "data": {
      "text/plain": [
       "<catboost.core.CatBoostRegressor at 0x17bd7006ff0>"
      ]
     },
     "execution_count": 60,
     "metadata": {},
     "output_type": "execute_result"
    }
   ],
   "source": [
    "cb_reg = CatBoostRegressor(iterations=500, eval_metric=\"RMSE\",\n",
    "                           task_type=\"GPU\", random_seed=42)\n",
    "params = {\n",
    "    \"verbose\": 100,\n",
    "    \"eval_set\": (X_test, y_test),\n",
    "    \"use_best_model\": True,\n",
    "    \"cat_features\": cat_columns,\n",
    "    \"plot\": True,\n",
    "    }\n",
    "cb_reg.fit(X_train, y_train, **params)"
   ]
  },
  {
   "cell_type": "code",
   "execution_count": 61,
   "id": "e6cc8a20-1d26-40b3-be17-f53a12f4241a",
   "metadata": {},
   "outputs": [
    {
     "data": {
      "image/png": "[encoded data removed]",
      "text/plain": [
       "<Figure size 640x480 with 1 Axes>"
      ]
     },
     "metadata": {},
     "output_type": "display_data"
    }
   ],
   "source": [
    "sns.histplot(np.expm1(y_test), label=\"Реальная\",\n",
    "             color=\"#eb0000\", alpha=0.6, bins=40)\n",
    "\n",
    "sns.histplot(np.expm1(cb_reg.predict(X_test)), label=\"Предсказанная\",\n",
    "             color=\"#04eb00\", alpha=0.8, bins=40)\n",
    "plt.legend()\n",
    "plt.ylabel(\"Частота\")\n",
    "plt.xlabel(\"Цена\")\n",
    "plt.title(\"Predicted vs Target\")\n",
    "plt.show()"
   ]
  },
  {
   "cell_type": "markdown",
   "id": "cfbdd9ac-b9fd-475a-8c75-f5458da62faa",
   "metadata": {},
   "source": [
    "<h3>Попробуем удалить по одному из пар коррелирующих признаков</h3>"
   ]
  },
  {
   "cell_type": "code",
   "execution_count": 62,
   "id": "22f165e6-2c4b-43d0-845e-019023c4a6c3",
   "metadata": {},
   "outputs": [],
   "source": [
    "X = df.drop(columns=[\"SalePrice\", \"TotalBsmtSF\", \"TotRmsAbvGrd\"])\n",
    "y = np.log1p(df[\"SalePrice\"])\n",
    "cat_columns = X.columns[X.dtypes == \"object\"].values\n",
    "numeric_columns = X.columns[X.dtypes != \"object\"].values\n",
    "X_train, X_test, y_train, y_test = train_test_split(X, y, random_state=42)"
   ]
  },
  {
   "cell_type": "code",
   "execution_count": 63,
   "id": "7890ca3f-5eac-4192-8570-21680fe269a8",
   "metadata": {},
   "outputs": [
    {
     "data": {
      "application/vnd.jupyter.widget-view+json": {
       "model_id": "364842184ee54bf2a55b2934188107f4",
       "version_major": 2,
       "version_minor": 0
      },
      "text/plain": [
       "MetricVisualizer(layout=Layout(align_self='stretch', height='500px'))"
      ]
     },
     "metadata": {},
     "output_type": "display_data"
    },
    {
     "name": "stdout",
     "output_type": "stream",
     "text": [
      "Learning rate set to 0.076412\n",
      "0:\tlearn: 0.3730601\ttest: 0.3960465\tbest: 0.3960465 (0)\ttotal: 17.9ms\tremaining: 8.92s\n",
      "100:\tlearn: 0.1257592\ttest: 0.1520744\tbest: 0.1520699 (99)\ttotal: 1.57s\tremaining: 6.21s\n",
      "200:\tlearn: 0.1184301\ttest: 0.1502301\tbest: 0.1499439 (180)\ttotal: 3.13s\tremaining: 4.66s\n",
      "300:\tlearn: 0.1162389\ttest: 0.1504913\tbest: 0.1499439 (180)\ttotal: 4.76s\tremaining: 3.15s\n",
      "400:\tlearn: 0.1151251\ttest: 0.1507245\tbest: 0.1499439 (180)\ttotal: 6.45s\tremaining: 1.59s\n",
      "499:\tlearn: 0.1140230\ttest: 0.1507209\tbest: 0.1499439 (180)\ttotal: 8.04s\tremaining: 0us\n",
      "bestTest = 0.1499438542\n",
      "bestIteration = 180\n",
      "Shrink model to first 181 iterations.\n"
     ]
    },
    {
     "data": {
      "text/plain": [
       "<catboost.core.CatBoostRegressor at 0x17bd5bed5e0>"
      ]
     },
     "execution_count": 63,
     "metadata": {},
     "output_type": "execute_result"
    }
   ],
   "source": [
    "cb_reg_no_corr = CatBoostRegressor(iterations=500, eval_metric=\"RMSE\",\n",
    "                           task_type=\"GPU\", random_seed=42)\n",
    "params = {\n",
    "    \"verbose\": 100,\n",
    "    \"eval_set\": (X_test, y_test),\n",
    "    \"use_best_model\": True,\n",
    "    \"cat_features\": cat_columns,\n",
    "    \"plot\": True,\n",
    "    }\n",
    "cb_reg_no_corr.fit(X_train, y_train, **params)"
   ]
  },
  {
   "cell_type": "code",
   "execution_count": 64,
   "id": "ccbfc4a5-b523-4abd-8f1e-5fe9134ac971",
   "metadata": {},
   "outputs": [
    {
     "data": {
      "image/png": "[encoded data removed]",
      "text/plain": [
       "<Figure size 640x480 with 1 Axes>"
      ]
     },
     "metadata": {},
     "output_type": "display_data"
    }
   ],
   "source": [
    "sns.histplot(np.expm1(y_test), label=\"Реальная\",\n",
    "             color=\"#eb0000\", alpha=0.6, bins=40)\n",
    "\n",
    "sns.histplot(np.expm1(cb_reg_no_corr.predict(X_test)), label=\"Предсказанная\",\n",
    "             color=\"#04eb00\", alpha=0.8, bins=40)\n",
    "plt.legend()\n",
    "plt.ylabel(\"Частота\")\n",
    "plt.xlabel(\"Цена\")\n",
    "plt.title(\"Predicted vs Target\")\n",
    "plt.show()"
   ]
  },
  {
   "cell_type": "markdown",
   "id": "1a322f4c-271d-469e-985e-c2026f9a0d03",
   "metadata": {},
   "source": [
    "<h2>Существенного прироста при удалении одного из пары коррелирующих признаков мы не получили</h2>"
   ]
  },
  {
   "cell_type": "markdown",
   "id": "cc3d36ec-dd6c-42ab-bdf1-61ad2e4362b2",
   "metadata": {},
   "source": [
    "Попробуем обучить линейную регрессию"
   ]
  },
  {
   "cell_type": "code",
   "execution_count": 65,
   "id": "967523ef-569c-4a34-a671-bf0187c70123",
   "metadata": {},
   "outputs": [],
   "source": [
    "Scaler = StandardScaler()\n",
    "X = df.drop(columns=\"SalePrice\")\n",
    "X.loc[:, numeric_columns] = Scaler.fit_transform(X.loc[:, numeric_columns])"
   ]
  },
  {
   "cell_type": "markdown",
   "id": "8cd07d7f-64d1-462f-ab07-8bf1a6a82fbf",
   "metadata": {},
   "source": [
    "Преобразуем категориальные переменные с помощью one_hot_encoding"
   ]
  },
  {
   "cell_type": "code",
   "execution_count": 66,
   "id": "9ed7330c-83e5-4c0a-b52b-4c5d6abcb583",
   "metadata": {},
   "outputs": [],
   "source": [
    "X = pd.get_dummies(X)"
   ]
  },
  {
   "cell_type": "code",
   "execution_count": 67,
   "id": "729e60db-b12f-4398-8445-993a24ae1b60",
   "metadata": {},
   "outputs": [],
   "source": [
    "X_train, X_test, y_train, y_test = train_test_split(X, y, random_state=42)"
   ]
  },
  {
   "cell_type": "code",
   "execution_count": 68,
   "id": "d3310952-808e-4e9f-b6f1-7f6330a993f5",
   "metadata": {},
   "outputs": [],
   "source": [
    "lin_reg = LinearRegression()"
   ]
  },
  {
   "cell_type": "code",
   "execution_count": 69,
   "id": "23266bd4-1970-4239-9105-9a1b8a340761",
   "metadata": {},
   "outputs": [],
   "source": [
    "lin_reg.fit(X_train, y_train);"
   ]
  },
  {
   "cell_type": "markdown",
   "id": "a6f3cbbd-b7d9-4441-a34f-539458e74c65",
   "metadata": {},
   "source": [
    "Посмотрим RMSE"
   ]
  },
  {
   "cell_type": "code",
   "execution_count": 70,
   "id": "a2930a78-f23c-4897-ba4b-b678db4aaccb",
   "metadata": {},
   "outputs": [
    {
     "data": {
      "text/plain": [
       "0.15970206792276218"
      ]
     },
     "execution_count": 70,
     "metadata": {},
     "output_type": "execute_result"
    }
   ],
   "source": [
    "np.sqrt(mean_squared_error(y_test, lin_reg.predict(X_test)))"
   ]
  },
  {
   "cell_type": "markdown",
   "id": "a330c18e-50cc-4e42-ac48-254bb4b4528f",
   "metadata": {},
   "source": [
    "RMSE больше, чем у Catboost"
   ]
  },
  {
   "cell_type": "code",
   "execution_count": 71,
   "id": "844f48ab-8415-4961-bb8c-a5dfe250ff7d",
   "metadata": {},
   "outputs": [
    {
     "data": {
      "image/png": "[encoded data removed]",
      "text/plain": [
       "<Figure size 640x480 with 1 Axes>"
      ]
     },
     "metadata": {},
     "output_type": "display_data"
    }
   ],
   "source": [
    "sns.histplot(np.expm1(y_test), label=\"Реальная\",\n",
    "             color=\"#eb0000\", alpha=0.6, bins=40)\n",
    "\n",
    "sns.histplot(np.expm1(lin_reg.predict(X_test)), label=\"Предсказанная\",\n",
    "             color=\"#04eb00\", alpha=0.8, bins=40)\n",
    "plt.legend()\n",
    "plt.ylabel(\"Частота\")\n",
    "plt.xlabel(\"Цена\")\n",
    "plt.title(\"Predicted vs Target\")\n",
    "plt.show()"
   ]
  },
  {
   "cell_type": "markdown",
   "id": "3c4335a5-e8ec-482b-a6c4-73d4601c67af",
   "metadata": {},
   "source": [
    "<h2>Попробуем Lasso регрессию</h2>"
   ]
  },
  {
   "cell_type": "code",
   "execution_count": 72,
   "id": "aa0f45e5-5cf3-46da-a304-289dceaba38e",
   "metadata": {},
   "outputs": [],
   "source": [
    "lasso_reg = Lasso(alpha=0.001)"
   ]
  },
  {
   "cell_type": "code",
   "execution_count": 73,
   "id": "33dcd85e-bed5-4acd-a352-8191e062f41c",
   "metadata": {},
   "outputs": [],
   "source": [
    "lasso_reg.fit(X_train, y_train);"
   ]
  },
  {
   "cell_type": "code",
   "execution_count": 74,
   "id": "c0efaf85-8b3d-47a0-8f03-5ff6d1cc7ea2",
   "metadata": {},
   "outputs": [
    {
     "data": {
      "text/plain": [
       "0.16034830212382925"
      ]
     },
     "execution_count": 74,
     "metadata": {},
     "output_type": "execute_result"
    }
   ],
   "source": [
    "np.sqrt(mean_squared_error(y_test, lasso_reg.predict(X_test)))"
   ]
  },
  {
   "cell_type": "markdown",
   "id": "1ed56b68-6bbb-4fac-aace-d23d70d8ba5f",
   "metadata": {},
   "source": [
    "RMSE чуть больше, чем у линейной регрессии"
   ]
  },
  {
   "cell_type": "code",
   "execution_count": 75,
   "id": "10ca1bd3-7e62-4244-b2a8-77ecdd11c0e2",
   "metadata": {},
   "outputs": [
    {
     "data": {
      "image/png": "[encoded data removed]",
      "text/plain": [
       "<Figure size 640x480 with 1 Axes>"
      ]
     },
     "metadata": {},
     "output_type": "display_data"
    }
   ],
   "source": [
    "sns.histplot(np.expm1(y_test), label=\"Реальная\",\n",
    "             color=\"#eb0000\", alpha=0.6, bins=40)\n",
    "\n",
    "sns.histplot(np.expm1(lin_reg.predict(X_test)), label=\"Предсказанная\",\n",
    "             color=\"#04eb00\", alpha=0.8, bins=40)\n",
    "plt.legend()\n",
    "plt.ylabel(\"Частота\")\n",
    "plt.xlabel(\"Цена\")\n",
    "plt.title(\"Predicted vs Target\")\n",
    "plt.show()"
   ]
  },
  {
   "cell_type": "code",
   "execution_count": 76,
   "id": "2b9f6ece-2935-40d0-8cf2-d95f313f4637",
   "metadata": {},
   "outputs": [
    {
     "data": {
      "text/plain": [
       "0.15970172064226468"
      ]
     },
     "execution_count": 76,
     "metadata": {},
     "output_type": "execute_result"
    }
   ],
   "source": [
    "ridge_reg = Ridge(alpha=0.001)\n",
    "ridge_reg.fit(X_train, y_train)\n",
    "np.sqrt(mean_squared_error(y_test, ridge_reg.predict(X_test)))"
   ]
  },
  {
   "cell_type": "code",
   "execution_count": 77,
   "id": "622bf79b-203a-42e4-a054-24e69bf035f5",
   "metadata": {},
   "outputs": [
    {
     "data": {
      "image/png": "[encoded data removed]",
      "text/plain": [
       "<Figure size 640x480 with 1 Axes>"
      ]
     },
     "metadata": {},
     "output_type": "display_data"
    }
   ],
   "source": [
    "sns.histplot(np.expm1(y_test), label=\"Реальная\",\n",
    "             color=\"#eb0000\", alpha=0.6, bins=40)\n",
    "\n",
    "sns.histplot(np.expm1(ridge_reg.predict(X_test)), label=\"Предсказанная\",\n",
    "             color=\"#04eb00\", alpha=0.8, bins=40)\n",
    "plt.legend()\n",
    "plt.ylabel(\"Частота\")\n",
    "plt.xlabel(\"Цена\")\n",
    "plt.title(\"Predicted vs Target\")\n",
    "plt.show()"
   ]
  },
  {
   "cell_type": "markdown",
   "id": "e670b34c-a788-433c-8aac-969faeb490ca",
   "metadata": {},
   "source": [
    "Итого:\n",
    "* CatBoost RMSE: 0.147\n",
    "* Линейная регрессия без регуляризация: 0.159\n",
    "* Lasso: 0.160\n",
    "* Ridge: 0.159"
   ]
  },
  {
   "cell_type": "code",
   "execution_count": 78,
   "id": "e54b9825-b7f1-4c72-8061-cfb8b54c6416",
   "metadata": {},
   "outputs": [
    {
     "data": {
      "text/html": [
       "<div>\n",
       "<style scoped>\n",
       "    .dataframe tbody tr th:only-of-type {\n",
       "        vertical-align: middle;\n",
       "    }\n",
       "\n",
       "    .dataframe tbody tr th {\n",
       "        vertical-align: top;\n",
       "    }\n",
       "\n",
       "    .dataframe thead th {\n",
       "        text-align: right;\n",
       "    }\n",
       "</style>\n",
       "<table border=\"1\" class=\"dataframe\">\n",
       "  <thead>\n",
       "    <tr style=\"text-align: right;\">\n",
       "      <th></th>\n",
       "      <th>LandContour</th>\n",
       "      <th>GarageYrBlt</th>\n",
       "      <th>FullBath</th>\n",
       "      <th>1stFlrSF</th>\n",
       "      <th>BsmtFinSF1</th>\n",
       "      <th>TotRmsAbvGrd</th>\n",
       "      <th>ExterQual</th>\n",
       "      <th>OpenPorchSF</th>\n",
       "      <th>Heating</th>\n",
       "      <th>Condition2</th>\n",
       "      <th>OverallQual</th>\n",
       "      <th>GarageCars</th>\n",
       "      <th>KitchenQual</th>\n",
       "      <th>KitchenAbvGr</th>\n",
       "      <th>GrLivArea</th>\n",
       "      <th>2ndFlrSF</th>\n",
       "      <th>CentralAir</th>\n",
       "      <th>BsmtQual</th>\n",
       "      <th>TotalBsmtSF</th>\n",
       "      <th>Fireplaces</th>\n",
       "    </tr>\n",
       "  </thead>\n",
       "  <tbody>\n",
       "    <tr>\n",
       "      <th>0</th>\n",
       "      <td>Lvl</td>\n",
       "      <td>1961.0</td>\n",
       "      <td>1</td>\n",
       "      <td>896</td>\n",
       "      <td>468.0</td>\n",
       "      <td>5</td>\n",
       "      <td>TA</td>\n",
       "      <td>0</td>\n",
       "      <td>GasA</td>\n",
       "      <td>Norm</td>\n",
       "      <td>5</td>\n",
       "      <td>1.0</td>\n",
       "      <td>TA</td>\n",
       "      <td>1</td>\n",
       "      <td>896</td>\n",
       "      <td>0</td>\n",
       "      <td>Y</td>\n",
       "      <td>TA</td>\n",
       "      <td>882.0</td>\n",
       "      <td>0</td>\n",
       "    </tr>\n",
       "    <tr>\n",
       "      <th>1</th>\n",
       "      <td>Lvl</td>\n",
       "      <td>1958.0</td>\n",
       "      <td>1</td>\n",
       "      <td>1329</td>\n",
       "      <td>923.0</td>\n",
       "      <td>6</td>\n",
       "      <td>TA</td>\n",
       "      <td>36</td>\n",
       "      <td>GasA</td>\n",
       "      <td>Norm</td>\n",
       "      <td>6</td>\n",
       "      <td>1.0</td>\n",
       "      <td>Gd</td>\n",
       "      <td>1</td>\n",
       "      <td>1329</td>\n",
       "      <td>0</td>\n",
       "      <td>Y</td>\n",
       "      <td>TA</td>\n",
       "      <td>1329.0</td>\n",
       "      <td>0</td>\n",
       "    </tr>\n",
       "    <tr>\n",
       "      <th>2</th>\n",
       "      <td>Lvl</td>\n",
       "      <td>1997.0</td>\n",
       "      <td>2</td>\n",
       "      <td>928</td>\n",
       "      <td>791.0</td>\n",
       "      <td>6</td>\n",
       "      <td>TA</td>\n",
       "      <td>34</td>\n",
       "      <td>GasA</td>\n",
       "      <td>Norm</td>\n",
       "      <td>5</td>\n",
       "      <td>2.0</td>\n",
       "      <td>TA</td>\n",
       "      <td>1</td>\n",
       "      <td>1629</td>\n",
       "      <td>701</td>\n",
       "      <td>Y</td>\n",
       "      <td>Gd</td>\n",
       "      <td>928.0</td>\n",
       "      <td>1</td>\n",
       "    </tr>\n",
       "    <tr>\n",
       "      <th>3</th>\n",
       "      <td>Lvl</td>\n",
       "      <td>1998.0</td>\n",
       "      <td>2</td>\n",
       "      <td>926</td>\n",
       "      <td>602.0</td>\n",
       "      <td>7</td>\n",
       "      <td>TA</td>\n",
       "      <td>36</td>\n",
       "      <td>GasA</td>\n",
       "      <td>Norm</td>\n",
       "      <td>6</td>\n",
       "      <td>2.0</td>\n",
       "      <td>Gd</td>\n",
       "      <td>1</td>\n",
       "      <td>1604</td>\n",
       "      <td>678</td>\n",
       "      <td>Y</td>\n",
       "      <td>TA</td>\n",
       "      <td>926.0</td>\n",
       "      <td>1</td>\n",
       "    </tr>\n",
       "    <tr>\n",
       "      <th>4</th>\n",
       "      <td>HLS</td>\n",
       "      <td>1992.0</td>\n",
       "      <td>2</td>\n",
       "      <td>1280</td>\n",
       "      <td>263.0</td>\n",
       "      <td>5</td>\n",
       "      <td>Gd</td>\n",
       "      <td>82</td>\n",
       "      <td>GasA</td>\n",
       "      <td>Norm</td>\n",
       "      <td>8</td>\n",
       "      <td>2.0</td>\n",
       "      <td>Gd</td>\n",
       "      <td>1</td>\n",
       "      <td>1280</td>\n",
       "      <td>0</td>\n",
       "      <td>Y</td>\n",
       "      <td>Gd</td>\n",
       "      <td>1280.0</td>\n",
       "      <td>0</td>\n",
       "    </tr>\n",
       "  </tbody>\n",
       "</table>\n",
       "</div>"
      ],
      "text/plain": [
       "  LandContour  GarageYrBlt  FullBath  1stFlrSF  BsmtFinSF1  TotRmsAbvGrd  \\\n",
       "0         Lvl       1961.0         1       896       468.0             5   \n",
       "1         Lvl       1958.0         1      1329       923.0             6   \n",
       "2         Lvl       1997.0         2       928       791.0             6   \n",
       "3         Lvl       1998.0         2       926       602.0             7   \n",
       "4         HLS       1992.0         2      1280       263.0             5   \n",
       "\n",
       "  ExterQual  OpenPorchSF Heating Condition2  OverallQual  GarageCars  \\\n",
       "0        TA            0    GasA       Norm            5         1.0   \n",
       "1        TA           36    GasA       Norm            6         1.0   \n",
       "2        TA           34    GasA       Norm            5         2.0   \n",
       "3        TA           36    GasA       Norm            6         2.0   \n",
       "4        Gd           82    GasA       Norm            8         2.0   \n",
       "\n",
       "  KitchenQual  KitchenAbvGr  GrLivArea  2ndFlrSF CentralAir BsmtQual  \\\n",
       "0          TA             1        896         0          Y       TA   \n",
       "1          Gd             1       1329         0          Y       TA   \n",
       "2          TA             1       1629       701          Y       Gd   \n",
       "3          Gd             1       1604       678          Y       TA   \n",
       "4          Gd             1       1280         0          Y       Gd   \n",
       "\n",
       "   TotalBsmtSF  Fireplaces  \n",
       "0        882.0           0  \n",
       "1       1329.0           0  \n",
       "2        928.0           1  \n",
       "3        926.0           1  \n",
       "4       1280.0           0  "
      ]
     },
     "execution_count": 78,
     "metadata": {},
     "output_type": "execute_result"
    }
   ],
   "source": [
    "test_df = pd.read_csv(\"test.csv\")\n",
    "test_df.head()"
   ]
  },
  {
   "cell_type": "code",
   "execution_count": 79,
   "id": "ca10a817-87f5-4cb7-97d1-d957cfb0c74c",
   "metadata": {},
   "outputs": [
    {
     "data": {
      "text/plain": [
       "(1459, 20)"
      ]
     },
     "execution_count": 79,
     "metadata": {},
     "output_type": "execute_result"
    }
   ],
   "source": [
    "test_df.shape"
   ]
  },
  {
   "cell_type": "code",
   "execution_count": 80,
   "id": "9e3db846-ddcd-4a97-8c53-9aa7e5045749",
   "metadata": {},
   "outputs": [
    {
     "data": {
      "text/plain": [
       "LandContour      0\n",
       "GarageYrBlt     78\n",
       "FullBath         0\n",
       "1stFlrSF         0\n",
       "BsmtFinSF1       1\n",
       "TotRmsAbvGrd     0\n",
       "ExterQual        0\n",
       "OpenPorchSF      0\n",
       "Heating          0\n",
       "Condition2       0\n",
       "OverallQual      0\n",
       "GarageCars       1\n",
       "KitchenQual      1\n",
       "KitchenAbvGr     0\n",
       "GrLivArea        0\n",
       "2ndFlrSF         0\n",
       "CentralAir       0\n",
       "BsmtQual        44\n",
       "TotalBsmtSF      1\n",
       "Fireplaces       0\n",
       "dtype: int64"
      ]
     },
     "execution_count": 80,
     "metadata": {},
     "output_type": "execute_result"
    }
   ],
   "source": [
    "test_df.isna().sum()"
   ]
  },
  {
   "cell_type": "code",
   "execution_count": 81,
   "id": "a1217770-9431-4f13-9a4c-ab5c1bbde996",
   "metadata": {},
   "outputs": [],
   "source": [
    "X_test = test_df.copy()\n",
    "X_test[\"GarageYrBlt\"].fillna(X_test[\"GarageYrBlt\"].median(), inplace=True)\n",
    "X_test[\"BsmtQual\"] = X_test[\"BsmtQual\"].fillna(X_test[\"BsmtQual\"].value_counts().index[0])"
   ]
  },
  {
   "cell_type": "code",
   "execution_count": 82,
   "id": "de933eff-4b9a-440d-b9b1-2f8d436f8deb",
   "metadata": {},
   "outputs": [],
   "source": [
    "X_test = X_test.bfill()#Заполняю единичные пропуски предыдущими значениями"
   ]
  },
  {
   "cell_type": "code",
   "execution_count": 83,
   "id": "aea02319-423d-45cc-8a9d-06a72c36b298",
   "metadata": {},
   "outputs": [],
   "source": [
    "predicts = np.expm1(cb_reg.predict(X_test))"
   ]
  },
  {
   "cell_type": "code",
   "execution_count": 84,
   "id": "19c9e75c-d944-47c3-9024-413b84318bd1",
   "metadata": {},
   "outputs": [],
   "source": [
    "#Индексацию сделал с 1460..2919\n",
    "result_df = pd.DataFrame({\"Id\": list(range(df.shape[0]+1,\n",
    "                                           df.shape[0]+X_test.shape[0]+1)),\n",
    "                          \"SalePrice\": predicts})"
   ]
  },
  {
   "cell_type": "code",
   "execution_count": 85,
   "id": "40ac45f2-4f3d-423c-a926-03a1ed3002e1",
   "metadata": {},
   "outputs": [],
   "source": [
    "result_df.to_csv(\"result_submission.csv\", index=False)"
   ]
  }
 ],
 "metadata": {
  "kernelspec": {
   "display_name": "Python 3 (ipykernel)",
   "language": "python",
   "name": "python3"
  },
  "language_info": {
   "codemirror_mode": {
    "name": "ipython",
    "version": 3
   },
   "file_extension": ".py",
   "mimetype": "text/x-python",
   "name": "python",
   "nbconvert_exporter": "python",
   "pygments_lexer": "ipython3",
   "version": "3.12.1"
  }
 },
 "nbformat": 4,
 "nbformat_minor": 5
}
